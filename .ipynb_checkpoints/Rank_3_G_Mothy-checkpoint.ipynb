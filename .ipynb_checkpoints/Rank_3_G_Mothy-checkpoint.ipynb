{
 "cells": [
  {
   "cell_type": "markdown",
   "metadata": {},
   "source": [
    "# Glass Quality Prediction  Weekend Hackathon 6"
   ]
  },
  {
   "cell_type": "markdown",
   "metadata": {},
   "source": [
    "We humans have been using glass since ancient times for a variety of applications from building construction to making decorative objects. With technology, glass and its applications have evolved, and today, we have different varieties of glass used for very different purposes from a computer monitor to a bulletproof car window depending on the grade of the glass produced. And not all grades or varieties are manufactured the same way. In this data science challenge, you as a data scientist must use the given data to predict the grade of the glass produced based on the given factors.\n",
    "\n",
    "**Given are 15 distinguishing factors that can provide insight into what grade of the glass is being produced. Your objective as a data scientist is to build a machine learning model that can predict the grade of glass based on the given factors.**\n",
    "\n",
    "**Data Description:-**\n",
    "The unzipped folder will have the following files.\n",
    "\n",
    "- Train.csv – 1358 observations.\n",
    "- Test.csv – 583 observations.\n",
    "- Sample Submission – Sample format for the submission.\n",
    "- Target Variable: class"
   ]
  },
  {
   "cell_type": "markdown",
   "metadata": {},
   "source": [
    "## Import Modules"
   ]
  },
  {
   "cell_type": "code",
   "execution_count": 1,
   "metadata": {},
   "outputs": [],
   "source": [
    "import pandas as pd\n",
    "import numpy as np\n",
    "import matplotlib.pyplot as plt\n",
    "import seaborn as sns\n",
    "\n",
    "\n",
    "import warnings\n",
    "warnings.filterwarnings(action='ignore')\n",
    "\n",
    "from sklearn.model_selection import train_test_split,cross_val_predict\n",
    "from sklearn.metrics import log_loss\n",
    "\n",
    "from sklearn.ensemble import ExtraTreesClassifier"
   ]
  },
  {
   "cell_type": "markdown",
   "metadata": {},
   "source": [
    "## Import Dataset"
   ]
  },
  {
   "cell_type": "code",
   "execution_count": 2,
   "metadata": {},
   "outputs": [],
   "source": [
    "train = pd.read_csv(\"data/Train.csv\")\n",
    "test = pd.read_csv(\"data/Test.csv\")\n",
    "sub = pd.read_excel(\"data/Sample_Submission.xlsx\")"
   ]
  },
  {
   "cell_type": "code",
   "execution_count": 3,
   "metadata": {},
   "outputs": [
    {
     "data": {
      "text/html": [
       "<div>\n",
       "<style scoped>\n",
       "    .dataframe tbody tr th:only-of-type {\n",
       "        vertical-align: middle;\n",
       "    }\n",
       "\n",
       "    .dataframe tbody tr th {\n",
       "        vertical-align: top;\n",
       "    }\n",
       "\n",
       "    .dataframe thead th {\n",
       "        text-align: right;\n",
       "    }\n",
       "</style>\n",
       "<table border=\"1\" class=\"dataframe\">\n",
       "  <thead>\n",
       "    <tr style=\"text-align: right;\">\n",
       "      <th></th>\n",
       "      <th>grade_A_Component_1</th>\n",
       "      <th>grade_A_Component_2</th>\n",
       "      <th>max_luminosity</th>\n",
       "      <th>thickness</th>\n",
       "      <th>xmin</th>\n",
       "      <th>xmax</th>\n",
       "      <th>ymin</th>\n",
       "      <th>ymax</th>\n",
       "      <th>pixel_area</th>\n",
       "      <th>log_area</th>\n",
       "      <th>x_component_1</th>\n",
       "      <th>x_component_2</th>\n",
       "      <th>x_component_3</th>\n",
       "      <th>x_component_4</th>\n",
       "      <th>x_component_5</th>\n",
       "      <th>class</th>\n",
       "    </tr>\n",
       "  </thead>\n",
       "  <tbody>\n",
       "    <tr>\n",
       "      <td>0</td>\n",
       "      <td>0</td>\n",
       "      <td>1</td>\n",
       "      <td>150</td>\n",
       "      <td>36</td>\n",
       "      <td>144</td>\n",
       "      <td>172</td>\n",
       "      <td>947225</td>\n",
       "      <td>947332</td>\n",
       "      <td>439</td>\n",
       "      <td>439.099273</td>\n",
       "      <td>0</td>\n",
       "      <td>0</td>\n",
       "      <td>1</td>\n",
       "      <td>0</td>\n",
       "      <td>0</td>\n",
       "      <td>1</td>\n",
       "    </tr>\n",
       "    <tr>\n",
       "      <td>1</td>\n",
       "      <td>1</td>\n",
       "      <td>0</td>\n",
       "      <td>134</td>\n",
       "      <td>55</td>\n",
       "      <td>1144</td>\n",
       "      <td>1152</td>\n",
       "      <td>2379058</td>\n",
       "      <td>2379624</td>\n",
       "      <td>329</td>\n",
       "      <td>329.205616</td>\n",
       "      <td>1</td>\n",
       "      <td>0</td>\n",
       "      <td>0</td>\n",
       "      <td>0</td>\n",
       "      <td>0</td>\n",
       "      <td>1</td>\n",
       "    </tr>\n",
       "    <tr>\n",
       "      <td>2</td>\n",
       "      <td>1</td>\n",
       "      <td>0</td>\n",
       "      <td>135</td>\n",
       "      <td>65</td>\n",
       "      <td>950</td>\n",
       "      <td>974</td>\n",
       "      <td>1038442</td>\n",
       "      <td>1036754</td>\n",
       "      <td>300</td>\n",
       "      <td>300.120598</td>\n",
       "      <td>0</td>\n",
       "      <td>0</td>\n",
       "      <td>0</td>\n",
       "      <td>0</td>\n",
       "      <td>0</td>\n",
       "      <td>2</td>\n",
       "    </tr>\n",
       "    <tr>\n",
       "      <td>3</td>\n",
       "      <td>0</td>\n",
       "      <td>1</td>\n",
       "      <td>123</td>\n",
       "      <td>35</td>\n",
       "      <td>41</td>\n",
       "      <td>220</td>\n",
       "      <td>1705580</td>\n",
       "      <td>1705604</td>\n",
       "      <td>6803</td>\n",
       "      <td>6803.778622</td>\n",
       "      <td>0</td>\n",
       "      <td>0</td>\n",
       "      <td>1</td>\n",
       "      <td>0</td>\n",
       "      <td>0</td>\n",
       "      <td>1</td>\n",
       "    </tr>\n",
       "    <tr>\n",
       "      <td>4</td>\n",
       "      <td>1</td>\n",
       "      <td>0</td>\n",
       "      <td>138</td>\n",
       "      <td>69</td>\n",
       "      <td>462</td>\n",
       "      <td>466</td>\n",
       "      <td>1088124</td>\n",
       "      <td>1086579</td>\n",
       "      <td>251</td>\n",
       "      <td>251.401943</td>\n",
       "      <td>0</td>\n",
       "      <td>0</td>\n",
       "      <td>0</td>\n",
       "      <td>0</td>\n",
       "      <td>0</td>\n",
       "      <td>2</td>\n",
       "    </tr>\n",
       "  </tbody>\n",
       "</table>\n",
       "</div>"
      ],
      "text/plain": [
       "   grade_A_Component_1  grade_A_Component_2  max_luminosity  thickness  xmin  \\\n",
       "0                    0                    1             150         36   144   \n",
       "1                    1                    0             134         55  1144   \n",
       "2                    1                    0             135         65   950   \n",
       "3                    0                    1             123         35    41   \n",
       "4                    1                    0             138         69   462   \n",
       "\n",
       "   xmax     ymin     ymax  pixel_area     log_area  x_component_1  \\\n",
       "0   172   947225   947332         439   439.099273              0   \n",
       "1  1152  2379058  2379624         329   329.205616              1   \n",
       "2   974  1038442  1036754         300   300.120598              0   \n",
       "3   220  1705580  1705604        6803  6803.778622              0   \n",
       "4   466  1088124  1086579         251   251.401943              0   \n",
       "\n",
       "   x_component_2  x_component_3  x_component_4  x_component_5  class  \n",
       "0              0              1              0              0      1  \n",
       "1              0              0              0              0      1  \n",
       "2              0              0              0              0      2  \n",
       "3              0              1              0              0      1  \n",
       "4              0              0              0              0      2  "
      ]
     },
     "execution_count": 3,
     "metadata": {},
     "output_type": "execute_result"
    }
   ],
   "source": [
    "train.head()"
   ]
  },
  {
   "cell_type": "code",
   "execution_count": 4,
   "metadata": {},
   "outputs": [
    {
     "data": {
      "text/html": [
       "<div>\n",
       "<style scoped>\n",
       "    .dataframe tbody tr th:only-of-type {\n",
       "        vertical-align: middle;\n",
       "    }\n",
       "\n",
       "    .dataframe tbody tr th {\n",
       "        vertical-align: top;\n",
       "    }\n",
       "\n",
       "    .dataframe thead th {\n",
       "        text-align: right;\n",
       "    }\n",
       "</style>\n",
       "<table border=\"1\" class=\"dataframe\">\n",
       "  <thead>\n",
       "    <tr style=\"text-align: right;\">\n",
       "      <th></th>\n",
       "      <th>grade_A_Component_1</th>\n",
       "      <th>grade_A_Component_2</th>\n",
       "      <th>max_luminosity</th>\n",
       "      <th>thickness</th>\n",
       "      <th>xmin</th>\n",
       "      <th>xmax</th>\n",
       "      <th>ymin</th>\n",
       "      <th>ymax</th>\n",
       "      <th>pixel_area</th>\n",
       "      <th>log_area</th>\n",
       "      <th>x_component_1</th>\n",
       "      <th>x_component_2</th>\n",
       "      <th>x_component_3</th>\n",
       "      <th>x_component_4</th>\n",
       "      <th>x_component_5</th>\n",
       "    </tr>\n",
       "  </thead>\n",
       "  <tbody>\n",
       "    <tr>\n",
       "      <td>0</td>\n",
       "      <td>1</td>\n",
       "      <td>0</td>\n",
       "      <td>123</td>\n",
       "      <td>65</td>\n",
       "      <td>33</td>\n",
       "      <td>54</td>\n",
       "      <td>1646439</td>\n",
       "      <td>1646893</td>\n",
       "      <td>632</td>\n",
       "      <td>632.391749</td>\n",
       "      <td>0</td>\n",
       "      <td>1</td>\n",
       "      <td>0</td>\n",
       "      <td>0</td>\n",
       "      <td>0</td>\n",
       "    </tr>\n",
       "    <tr>\n",
       "      <td>1</td>\n",
       "      <td>0</td>\n",
       "      <td>1</td>\n",
       "      <td>158</td>\n",
       "      <td>99</td>\n",
       "      <td>125</td>\n",
       "      <td>132</td>\n",
       "      <td>189874</td>\n",
       "      <td>189529</td>\n",
       "      <td>421</td>\n",
       "      <td>421.928609</td>\n",
       "      <td>0</td>\n",
       "      <td>0</td>\n",
       "      <td>0</td>\n",
       "      <td>0</td>\n",
       "      <td>0</td>\n",
       "    </tr>\n",
       "    <tr>\n",
       "      <td>2</td>\n",
       "      <td>0</td>\n",
       "      <td>1</td>\n",
       "      <td>120</td>\n",
       "      <td>35</td>\n",
       "      <td>64</td>\n",
       "      <td>75</td>\n",
       "      <td>12986873</td>\n",
       "      <td>12986862</td>\n",
       "      <td>272</td>\n",
       "      <td>272.212214</td>\n",
       "      <td>1</td>\n",
       "      <td>0</td>\n",
       "      <td>0</td>\n",
       "      <td>0</td>\n",
       "      <td>0</td>\n",
       "    </tr>\n",
       "    <tr>\n",
       "      <td>3</td>\n",
       "      <td>0</td>\n",
       "      <td>1</td>\n",
       "      <td>130</td>\n",
       "      <td>39</td>\n",
       "      <td>57</td>\n",
       "      <td>177</td>\n",
       "      <td>309634</td>\n",
       "      <td>310824</td>\n",
       "      <td>3312</td>\n",
       "      <td>3312.310581</td>\n",
       "      <td>0</td>\n",
       "      <td>0</td>\n",
       "      <td>1</td>\n",
       "      <td>0</td>\n",
       "      <td>0</td>\n",
       "    </tr>\n",
       "    <tr>\n",
       "      <td>4</td>\n",
       "      <td>1</td>\n",
       "      <td>0</td>\n",
       "      <td>142</td>\n",
       "      <td>75</td>\n",
       "      <td>23</td>\n",
       "      <td>79</td>\n",
       "      <td>5368307</td>\n",
       "      <td>5367467</td>\n",
       "      <td>862</td>\n",
       "      <td>862.499179</td>\n",
       "      <td>0</td>\n",
       "      <td>0</td>\n",
       "      <td>0</td>\n",
       "      <td>0</td>\n",
       "      <td>0</td>\n",
       "    </tr>\n",
       "  </tbody>\n",
       "</table>\n",
       "</div>"
      ],
      "text/plain": [
       "   grade_A_Component_1  grade_A_Component_2  max_luminosity  thickness  xmin  \\\n",
       "0                    1                    0             123         65    33   \n",
       "1                    0                    1             158         99   125   \n",
       "2                    0                    1             120         35    64   \n",
       "3                    0                    1             130         39    57   \n",
       "4                    1                    0             142         75    23   \n",
       "\n",
       "   xmax      ymin      ymax  pixel_area     log_area  x_component_1  \\\n",
       "0    54   1646439   1646893         632   632.391749              0   \n",
       "1   132    189874    189529         421   421.928609              0   \n",
       "2    75  12986873  12986862         272   272.212214              1   \n",
       "3   177    309634    310824        3312  3312.310581              0   \n",
       "4    79   5368307   5367467         862   862.499179              0   \n",
       "\n",
       "   x_component_2  x_component_3  x_component_4  x_component_5  \n",
       "0              1              0              0              0  \n",
       "1              0              0              0              0  \n",
       "2              0              0              0              0  \n",
       "3              0              1              0              0  \n",
       "4              0              0              0              0  "
      ]
     },
     "execution_count": 4,
     "metadata": {},
     "output_type": "execute_result"
    }
   ],
   "source": [
    "test.head()"
   ]
  },
  {
   "cell_type": "code",
   "execution_count": 5,
   "metadata": {},
   "outputs": [
    {
     "data": {
      "text/html": [
       "<div>\n",
       "<style scoped>\n",
       "    .dataframe tbody tr th:only-of-type {\n",
       "        vertical-align: middle;\n",
       "    }\n",
       "\n",
       "    .dataframe tbody tr th {\n",
       "        vertical-align: top;\n",
       "    }\n",
       "\n",
       "    .dataframe thead th {\n",
       "        text-align: right;\n",
       "    }\n",
       "</style>\n",
       "<table border=\"1\" class=\"dataframe\">\n",
       "  <thead>\n",
       "    <tr style=\"text-align: right;\">\n",
       "      <th></th>\n",
       "      <th>grade_A_Component_1</th>\n",
       "      <th>grade_A_Component_2</th>\n",
       "      <th>x_component_1</th>\n",
       "      <th>x_component_2</th>\n",
       "      <th>x_component_3</th>\n",
       "      <th>x_component_4</th>\n",
       "      <th>x_component_5</th>\n",
       "    </tr>\n",
       "  </thead>\n",
       "  <tbody>\n",
       "    <tr>\n",
       "      <td>0</td>\n",
       "      <td>0</td>\n",
       "      <td>1</td>\n",
       "      <td>0</td>\n",
       "      <td>0</td>\n",
       "      <td>1</td>\n",
       "      <td>0</td>\n",
       "      <td>0</td>\n",
       "    </tr>\n",
       "    <tr>\n",
       "      <td>1</td>\n",
       "      <td>1</td>\n",
       "      <td>0</td>\n",
       "      <td>1</td>\n",
       "      <td>0</td>\n",
       "      <td>0</td>\n",
       "      <td>0</td>\n",
       "      <td>0</td>\n",
       "    </tr>\n",
       "    <tr>\n",
       "      <td>2</td>\n",
       "      <td>1</td>\n",
       "      <td>0</td>\n",
       "      <td>0</td>\n",
       "      <td>0</td>\n",
       "      <td>0</td>\n",
       "      <td>0</td>\n",
       "      <td>0</td>\n",
       "    </tr>\n",
       "    <tr>\n",
       "      <td>3</td>\n",
       "      <td>0</td>\n",
       "      <td>1</td>\n",
       "      <td>0</td>\n",
       "      <td>0</td>\n",
       "      <td>1</td>\n",
       "      <td>0</td>\n",
       "      <td>0</td>\n",
       "    </tr>\n",
       "    <tr>\n",
       "      <td>4</td>\n",
       "      <td>1</td>\n",
       "      <td>0</td>\n",
       "      <td>0</td>\n",
       "      <td>0</td>\n",
       "      <td>0</td>\n",
       "      <td>0</td>\n",
       "      <td>0</td>\n",
       "    </tr>\n",
       "  </tbody>\n",
       "</table>\n",
       "</div>"
      ],
      "text/plain": [
       "   grade_A_Component_1  grade_A_Component_2  x_component_1  x_component_2  \\\n",
       "0                    0                    1              0              0   \n",
       "1                    1                    0              1              0   \n",
       "2                    1                    0              0              0   \n",
       "3                    0                    1              0              0   \n",
       "4                    1                    0              0              0   \n",
       "\n",
       "   x_component_3  x_component_4  x_component_5  \n",
       "0              1              0              0  \n",
       "1              0              0              0  \n",
       "2              0              0              0  \n",
       "3              1              0              0  \n",
       "4              0              0              0  "
      ]
     },
     "execution_count": 5,
     "metadata": {},
     "output_type": "execute_result"
    }
   ],
   "source": [
    "train[['grade_A_Component_1','grade_A_Component_2','x_component_1','x_component_2','x_component_3','x_component_4','x_component_5']].head() "
   ]
  },
  {
   "cell_type": "markdown",
   "metadata": {},
   "source": [
    "**Note:** Grade_A feature and x_component are one hot encoded.\n",
    "- grade_A_Component_1 and grade_A_component_2 represent the same, there is a dummy variable.\n",
    "- So, **grade_A_Component_1** is removed from features.\n",
    "- In case of x_component, that is not the case all the 5 features are needed."
   ]
  },
  {
   "cell_type": "code",
   "execution_count": 6,
   "metadata": {},
   "outputs": [
    {
     "data": {
      "text/html": [
       "<div>\n",
       "<style scoped>\n",
       "    .dataframe tbody tr th:only-of-type {\n",
       "        vertical-align: middle;\n",
       "    }\n",
       "\n",
       "    .dataframe tbody tr th {\n",
       "        vertical-align: top;\n",
       "    }\n",
       "\n",
       "    .dataframe thead th {\n",
       "        text-align: right;\n",
       "    }\n",
       "</style>\n",
       "<table border=\"1\" class=\"dataframe\">\n",
       "  <thead>\n",
       "    <tr style=\"text-align: right;\">\n",
       "      <th></th>\n",
       "      <th>pixel_area</th>\n",
       "      <th>log_area</th>\n",
       "    </tr>\n",
       "  </thead>\n",
       "  <tbody>\n",
       "    <tr>\n",
       "      <td>0</td>\n",
       "      <td>439</td>\n",
       "      <td>439.099273</td>\n",
       "    </tr>\n",
       "    <tr>\n",
       "      <td>1</td>\n",
       "      <td>329</td>\n",
       "      <td>329.205616</td>\n",
       "    </tr>\n",
       "    <tr>\n",
       "      <td>2</td>\n",
       "      <td>300</td>\n",
       "      <td>300.120598</td>\n",
       "    </tr>\n",
       "    <tr>\n",
       "      <td>3</td>\n",
       "      <td>6803</td>\n",
       "      <td>6803.778622</td>\n",
       "    </tr>\n",
       "    <tr>\n",
       "      <td>4</td>\n",
       "      <td>251</td>\n",
       "      <td>251.401943</td>\n",
       "    </tr>\n",
       "  </tbody>\n",
       "</table>\n",
       "</div>"
      ],
      "text/plain": [
       "   pixel_area     log_area\n",
       "0         439   439.099273\n",
       "1         329   329.205616\n",
       "2         300   300.120598\n",
       "3        6803  6803.778622\n",
       "4         251   251.401943"
      ]
     },
     "execution_count": 6,
     "metadata": {},
     "output_type": "execute_result"
    }
   ],
   "source": [
    "train[['pixel_area','log_area']].head()"
   ]
  },
  {
   "cell_type": "markdown",
   "metadata": {},
   "source": [
    "**Note**: Since the interger part of pixel_area and log_area are same, we remove pixel_area or log_area by considering the feature importance and log_losss metric."
   ]
  },
  {
   "cell_type": "markdown",
   "metadata": {},
   "source": [
    "## Features"
   ]
  },
  {
   "cell_type": "markdown",
   "metadata": {},
   "source": [
    "These are features which are created"
   ]
  },
  {
   "cell_type": "code",
   "execution_count": 7,
   "metadata": {},
   "outputs": [],
   "source": [
    "def create_features(df):\n",
    "    \n",
    "    df['x'] = df['xmax']-df['xmin']\n",
    "    df['y'] = df['ymax']-df['ymin']\n",
    "    df['area'] = df['x']*abs(df['y'])\n",
    "    df['volume'] = df['area']*df['thickness']\n",
    "    df['diff_area'] = df['log_area'] - df['pixel_area']\n",
    "    \n",
    "    return df"
   ]
  },
  {
   "cell_type": "code",
   "execution_count": 8,
   "metadata": {},
   "outputs": [],
   "source": [
    "train = create_features(train)\n",
    "test = create_features(test)"
   ]
  },
  {
   "cell_type": "markdown",
   "metadata": {},
   "source": [
    "## EDA"
   ]
  },
  {
   "cell_type": "code",
   "execution_count": 9,
   "metadata": {},
   "outputs": [
    {
     "data": {
      "image/png": "[encoded data removed]",
      "text/plain": [
       "<Figure size 864x864 with 11 Axes>"
      ]
     },
     "metadata": {
      "needs_background": "light"
     },
     "output_type": "display_data"
    }
   ],
   "source": [
    "# Plot the distribution plots for the numeric features\n",
    "fig, ax = plt.subplots(nrows=6, ncols=2,figsize=(12,12))\n",
    "\n",
    "ax = ax.flatten()\n",
    "i=0\n",
    "\n",
    "for feat in ['max_luminosity', 'thickness','xmin','xmax','ymin', 'ymax','pixel_area','log_area','x','y','area']:\n",
    "    sns.distplot(a=train[feat],bins=20,ax=ax[i])\n",
    "    i+=1\n",
    "    \n",
    "fig.delaxes(ax[11])\n",
    "fig.tight_layout()"
   ]
  },
  {
   "cell_type": "code",
   "execution_count": 10,
   "metadata": {},
   "outputs": [
    {
     "data": {
      "image/png": "[encoded data removed]",
      "text/plain": [
       "<Figure size 864x864 with 5 Axes>"
      ]
     },
     "metadata": {
      "needs_background": "light"
     },
     "output_type": "display_data"
    }
   ],
   "source": [
    "# Plot the distribution plots for the numeric features\n",
    "fig, ax = plt.subplots(nrows=3, ncols=2,figsize=(12,12))\n",
    "\n",
    "ax = ax.flatten()\n",
    "i=0\n",
    "\n",
    "for feat in ['x_component_1','x_component_2','x_component_3','x_component_4','x_component_5']:\n",
    "    sns.countplot(x=feat,data=train,hue='class',ax=ax[i])\n",
    "    i+=1\n",
    "    \n",
    "fig.delaxes(ax[5])\n",
    "fig.tight_layout()"
   ]
  },
  {
   "cell_type": "markdown",
   "metadata": {},
   "source": [
    "**Note:** From these plots we can see that x_component with 1's are all classified as class 1.\n",
    "- This can be used directly for classification with probabilty as 1 for class 1."
   ]
  },
  {
   "cell_type": "code",
   "execution_count": 11,
   "metadata": {},
   "outputs": [],
   "source": [
    "# Preprocessing result \n",
    "def confident_results(test,sub):\n",
    "    for i in range(0,test.shape[0]):\n",
    "        if(test['x_component_1'][i]==1):\n",
    "            sub[1][i] =1.0\n",
    "            sub[2][i] =0.0\n",
    "        elif(test['x_component_2'][i]==1):\n",
    "            sub[1][i] =1.0\n",
    "            sub[2][i] =0.0\n",
    "        elif(test['x_component_3'][i]==1):\n",
    "            sub[1][i] =1.0\n",
    "            sub[2][i] =0.0\n",
    "        elif(test['x_component_4'][i]==1):\n",
    "            sub[1][i] =1.0\n",
    "            sub[2][i] =0.0\n",
    "        elif(test['x_component_5'][i]==1):\n",
    "            sub[1][i] =1.0\n",
    "            sub[2][i] =0.0\n",
    "    return sub"
   ]
  },
  {
   "cell_type": "markdown",
   "metadata": {},
   "source": [
    "# features"
   ]
  },
  {
   "cell_type": "markdown",
   "metadata": {},
   "source": [
    "After trying models with different features these features provided lower log_loss"
   ]
  },
  {
   "cell_type": "code",
   "execution_count": 12,
   "metadata": {},
   "outputs": [
    {
     "data": {
      "text/plain": [
       "['x_component_2',\n",
       " 'max_luminosity',\n",
       " 'ymax',\n",
       " 'x_component_5',\n",
       " 'log_area',\n",
       " 'xmin',\n",
       " 'grade_A_Component_2',\n",
       " 'ymin',\n",
       " 'x_component_3',\n",
       " 'x_component_1',\n",
       " 'volume',\n",
       " 'x',\n",
       " 'area',\n",
       " 'x_component_4',\n",
       " 'xmax',\n",
       " 'thickness']"
      ]
     },
     "execution_count": 12,
     "metadata": {},
     "output_type": "execute_result"
    }
   ],
   "source": [
    "features = list(set(train.columns)-set(['class','grade_A_Component_1','y','pixel_area','diff_area'])) \n",
    "target = 'class'\n",
    "features"
   ]
  },
  {
   "cell_type": "code",
   "execution_count": 13,
   "metadata": {},
   "outputs": [],
   "source": [
    "def metric(y,y0):\n",
    "    return log_loss(y,y0)"
   ]
  },
  {
   "cell_type": "code",
   "execution_count": 14,
   "metadata": {},
   "outputs": [],
   "source": [
    "def k_fold_cross_valid(model,train,features,target,n_splits=5):\n",
    "    \n",
    "    X = train[features].copy()\n",
    "    y = train[target].copy()\n",
    "\n",
    "    from sklearn.model_selection import KFold\n",
    "    kf = KFold(n_splits=5)\n",
    "    kf.get_n_splits(X)\n",
    "    res = []\n",
    "\n",
    "    for train_index, test_index in kf.split(X):\n",
    "        \n",
    "        X_train, X_test = X.iloc[train_index], X.iloc[test_index]\n",
    "        y_train, y_test = y.iloc[train_index], y.iloc[test_index]\n",
    "\n",
    "        model.fit(X_train,y_train)\n",
    "        y_pred = model.predict_proba(X_test)\n",
    "        res.append(metric(y_test,y_pred))\n",
    "        \n",
    "    print(\"LogLoss:\",np.array(res).mean())   "
   ]
  },
  {
   "cell_type": "code",
   "execution_count": 15,
   "metadata": {},
   "outputs": [
    {
     "name": "stdout",
     "output_type": "stream",
     "text": [
      "LogLoss: 0.2845587601255075\n"
     ]
    }
   ],
   "source": [
    "model = ExtraTreesClassifier(random_state=11)\n",
    "k_fold_cross_valid(model,train,features,target,n_splits=5)"
   ]
  },
  {
   "cell_type": "code",
   "execution_count": 16,
   "metadata": {},
   "outputs": [],
   "source": [
    "model = ExtraTreesClassifier(random_state=11)\n",
    "model.fit(train[features],train[target])\n",
    "y_pred = model.predict_proba(test[features])\n",
    "sub = pd.DataFrame(y_pred,columns=[1,2])"
   ]
  },
  {
   "cell_type": "code",
   "execution_count": 17,
   "metadata": {},
   "outputs": [],
   "source": [
    "sub = confident_results(test,sub)\n",
    "sub.to_excel(\"extratrees_addv1.xls\",index=False)"
   ]
  },
  {
   "cell_type": "code",
   "execution_count": 18,
   "metadata": {},
   "outputs": [
    {
     "data": {
      "text/html": [
       "<div>\n",
       "<style scoped>\n",
       "    .dataframe tbody tr th:only-of-type {\n",
       "        vertical-align: middle;\n",
       "    }\n",
       "\n",
       "    .dataframe tbody tr th {\n",
       "        vertical-align: top;\n",
       "    }\n",
       "\n",
       "    .dataframe thead th {\n",
       "        text-align: right;\n",
       "    }\n",
       "</style>\n",
       "<table border=\"1\" class=\"dataframe\">\n",
       "  <thead>\n",
       "    <tr style=\"text-align: right;\">\n",
       "      <th></th>\n",
       "      <th>1</th>\n",
       "      <th>2</th>\n",
       "    </tr>\n",
       "  </thead>\n",
       "  <tbody>\n",
       "    <tr>\n",
       "      <td>0</td>\n",
       "      <td>1.00</td>\n",
       "      <td>0.00</td>\n",
       "    </tr>\n",
       "    <tr>\n",
       "      <td>1</td>\n",
       "      <td>0.15</td>\n",
       "      <td>0.85</td>\n",
       "    </tr>\n",
       "    <tr>\n",
       "      <td>2</td>\n",
       "      <td>1.00</td>\n",
       "      <td>0.00</td>\n",
       "    </tr>\n",
       "    <tr>\n",
       "      <td>3</td>\n",
       "      <td>1.00</td>\n",
       "      <td>0.00</td>\n",
       "    </tr>\n",
       "    <tr>\n",
       "      <td>4</td>\n",
       "      <td>0.59</td>\n",
       "      <td>0.41</td>\n",
       "    </tr>\n",
       "  </tbody>\n",
       "</table>\n",
       "</div>"
      ],
      "text/plain": [
       "      1     2\n",
       "0  1.00  0.00\n",
       "1  0.15  0.85\n",
       "2  1.00  0.00\n",
       "3  1.00  0.00\n",
       "4  0.59  0.41"
      ]
     },
     "execution_count": 18,
     "metadata": {},
     "output_type": "execute_result"
    }
   ],
   "source": [
    "sub.head()"
   ]
  },
  {
   "cell_type": "code",
   "execution_count": null,
   "metadata": {},
   "outputs": [],
   "source": []
  }
 ],
 "metadata": {
  "kernelspec": {
   "display_name": "Python 3",
   "language": "python",
   "name": "python3"
  },
  "language_info": {
   "codemirror_mode": {
    "name": "ipython",
    "version": 3
   },
   "file_extension": ".py",
   "mimetype": "text/x-python",
   "name": "python",
   "nbconvert_exporter": "python",
   "pygments_lexer": "ipython3",
   "version": "3.7.3"
  }
 },
 "nbformat": 4,
 "nbformat_minor": 2
}
